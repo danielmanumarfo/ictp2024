{
 "cells": [
  {
   "cell_type": "markdown",
   "metadata": {},
   "source": [
    "# Notebook 01: Archie's Law"
   ]
  },
  {
   "cell_type": "markdown",
   "metadata": {},
   "source": [
    "## Excercise 01: Archie's Law\n",
    "\n",
    "The electrical resistivity -- or its inverse: the electrical conductivity -- of Earth's materials depends mainly on the fluid content.\n",
    "\n",
    "To estimate the resistivity of a porous fluid filled material, several approaches have been developed. We will here use Archie's Law to estimate the resistivity:\n",
    "\n",
    "$\\rho_{rock} = \\rho_{fluid} A \\phi^{-m}$, where\n",
    "\n",
    "-  $\\rho_{fluid}$ is the resistivity of the fluid phase,\n",
    "- $A$ is the fluid saturation, i.e. the rate of pores filled with fluid (usually $A=1$ for sediments)\n",
    "- $\\phi$ is the porosity,\n",
    "- and $m$ the geometry exponent ($m=1$: ellipsoidal, $m=2$: spherical pores).\n",
    "\n"
   ]
  },
  {
   "cell_type": "markdown",
   "metadata": {},
   "source": [
    "Below, you find the Python code to calculate the rock resistivity using a (simplified) version of Archie's Law. \n",
    "\n",
    "You can modify the fluid resistivity $\\rho_{fluid}$, the porosity $\\phi$, and the geometry exponent $m$ by editing the top three lines in the following code box.\n",
    "\n",
    "Let's do some calculations together, but feel free to play around as well!\n",
    "\n",
    "**Task: How much melt do we need in zones A and B to achieve a bulk resistivity of 1 $\\Omega$m? How much porosity?** \n",
    "- Let‘s assume a melt resistivity of 0.1 Ωm.\n",
    "- We also assume that melt is well connected (m=1) and the pores are fully saturated (A=1).\n"
   ]
  },
  {
   "cell_type": "code",
   "execution_count": null,
   "metadata": {},
   "outputs": [],
   "source": [
    "rho_fluid = 0.1 #resistivity of the fluid phase [Ohm*m]\n",
    "phi = 0.0001  #porosity: 0 = no porosity, 1 = everything is pores\n",
    "m = 1 #  geometry exponent (1: ellipsoidal, 2: spherical pores).\n",
    "\n",
    "# calculate resistivity of the rock according to Archies Law, round to 3 digits and display result\n",
    "#------ DO NOT EDIT BELOW ------#\n",
    "\n",
    "import numpy as np\n",
    "A = 1 #fluid saturation\n",
    "\n",
    "rho_rock = rho_fluid*A*phi**(-m)\n",
    "rho_rock = np.round(rho_rock, 3)\n",
    "\n",
    "print(f\"Fluid resistivity: {rho_fluid} Ohmm \\nPorosity: {phi} \\nGeometry exponent: {m} \\n --> Rock resistivity: {rho_rock} Ohmm\")"
   ]
  },
  {
   "cell_type": "code",
   "execution_count": null,
   "metadata": {},
   "outputs": [],
   "source": []
  },
  {
   "cell_type": "code",
   "execution_count": null,
   "metadata": {},
   "outputs": [],
   "source": []
  }
 ],
 "metadata": {
  "kernelspec": {
   "display_name": "Python 3 (ipykernel)",
   "language": "python",
   "name": "python3"
  },
  "language_info": {
   "codemirror_mode": {
    "name": "ipython",
    "version": 3
   },
   "file_extension": ".py",
   "mimetype": "text/x-python",
   "name": "python",
   "nbconvert_exporter": "python",
   "pygments_lexer": "ipython3",
   "version": "3.8.10"
  },
  "vscode": {
   "interpreter": {
    "hash": "26cec81e6fc30d7e57e1e14d22fc7e80b2aadbfa7933f97f93b0f263b1312ef8"
   }
  }
 },
 "nbformat": 4,
 "nbformat_minor": 4
}
