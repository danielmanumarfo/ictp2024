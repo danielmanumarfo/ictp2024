{
 "cells": [
  {
   "cell_type": "markdown",
   "metadata": {},
   "source": [
    "## Excercise 02: The skin depth"
   ]
  },
  {
   "cell_type": "markdown",
   "metadata": {},
   "source": [
    "The skin depth is the distance at which the electromagnetic field has decayed to 1/e (~33 %) of it's initial value at surface. The skin depth is often used as a rule of thumb to estimate the approximate sounding depth of a given period. In fact, it is actually a rough number of the relevant subsurface volume, i.e. a half sphere with the radius of the skin depth.\n",
    "\n",
    "The skin depth is calculated from the **resistivity of the underground $\\rho$** and the **period length of the MT signal $T$** in the following  way:\n",
    "\n",
    "$p = 0.5 \\sqrt{\\rho*T}$"
   ]
  },
  {
   "cell_type": "markdown",
   "metadata": {},
   "source": [
    "Here is the code:"
   ]
  },
  {
   "cell_type": "code",
   "execution_count": 11,
   "metadata": {},
   "outputs": [
    {
     "name": "stdout",
     "output_type": "stream",
     "text": [
      "The skin depth for a resistivity of 100 Ohmm and a period length of 10 s is: \n",
      "15.81 km.\n"
     ]
    }
   ],
   "source": [
    "rho = 100 # resistivity of the subsurface in Ohm*m\n",
    "T = 0.01 # period length of the MT signal in seconds\n",
    "\n",
    "# ---- calculate skin depth, round to 2 decimals and display result: ----- #\n",
    "#------ DO NOT EDIT BELOW ------#\n",
    "import numpy as np\n",
    "p = 0.5*np.sqrt(rho*T) # skin depth in km\n",
    "p = np.round(p, 2)\n",
    "print(f\"The skin depth for a resistivity of {rho} Ohmm and a period length of {T} s is: \\n{p} km.\")"
   ]
  },
  {
   "cell_type": "markdown",
   "metadata": {},
   "source": [
    "## Now it is your task:\n",
    "Modify the resistivity and period length in the code box above and complete *one column* of the following table:\n",
    "\n",
    "|   | $\\rho = 1 \\Omega m$  \t| $\\rho = 10 \\Omega m$  \t| $\\rho = 100 \\Omega m$ \t| $\\rho = 300 \\Omega m$ \t| $\\rho = 1000 \\Omega m$\t|\n",
    "|---\t|---\t|---\t|---\t|---\t|---\t|\n",
    "| $T = 0.01 s$  \t|  \t|  \t|    \t|   \t|    \t|\n",
    "| $T = 0.1 s$  \t|   \t|   \t|   \t|   \t|   \t|\n",
    "| $T = 1 s$  \t|   \t|   \t|   \t|   \t|   \t|\n",
    "| $T = 10 s$ \t|   \t|   \t|   \t|   \t|   \t|\n",
    "| $T = 10,000 s$  \t|  \t|   \t|   \t|   \t|   \t|"
   ]
  },
  {
   "cell_type": "code",
   "execution_count": null,
   "metadata": {},
   "outputs": [],
   "source": []
  }
 ],
 "metadata": {
  "kernelspec": {
   "display_name": "Python 3 (ipykernel)",
   "language": "python",
   "name": "python3"
  },
  "language_info": {
   "codemirror_mode": {
    "name": "ipython",
    "version": 3
   },
   "file_extension": ".py",
   "mimetype": "text/x-python",
   "name": "python",
   "nbconvert_exporter": "python",
   "pygments_lexer": "ipython3",
   "version": "3.8.10"
  },
  "vscode": {
   "interpreter": {
    "hash": "26cec81e6fc30d7e57e1e14d22fc7e80b2aadbfa7933f97f93b0f263b1312ef8"
   }
  }
 },
 "nbformat": 4,
 "nbformat_minor": 4
}
