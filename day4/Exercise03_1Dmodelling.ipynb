{
 "cells": [
  {
   "cell_type": "markdown",
   "metadata": {},
   "source": [
    "## Exercise 03: 1D modelling of Magnetotelluric data\n",
    "\n",
    "The 1D forward problem can be solved analytically using the Wait algorithm (Wait, 1950).\n",
    "\n",
    "Here, we solve the problem for the following exemplary model:\n",
    "\n",
    "\n"
   ]
  },
  {
   "cell_type": "code",
   "execution_count": null,
   "metadata": {},
   "outputs": [],
   "source": [
    "# model \n",
    "thickness =[1000, 300] # thickness of layers in [m], separated by commas, last layer is assumed to have infinite thickness --> thickness has one entry less than rho\n",
    "rho = [10,1,10] # resistivity of each layer in [Ohmm]\n",
    "\n",
    "# --- calculate 1D FWD response, plot model and responses ---- #\n",
    "# --- DO NOT EDIT BELOW --- #\n",
    "import numpy as np\n",
    "import mt as mt\n",
    "per = np.logspace(-3, 3, 25) # make period vector with logarithmically equidistant periods between 0.001 and 1000 s\n",
    "rhoa, phi = mt.waitMT(thickness,rho,per) # FWD response of model\n",
    "mt.plotmodel(rho,thickness) # Plot model\n",
    "mt.plotrhophi(rhoa,phi,per) # Plot response\n"
   ]
  },
  {
   "cell_type": "markdown",
   "metadata": {},
   "source": [
    "But the model can also be much more complicated..."
   ]
  },
  {
   "cell_type": "code",
   "execution_count": null,
   "metadata": {},
   "outputs": [],
   "source": [
    "# --- DO NOT EDIT BELOW --- #\n",
    "import numpy as np\n",
    "# read model from textfile\n",
    "data = np.genfromtxt('WellData.txt')\n",
    "\n",
    "# convert  depths to layer thicknesses\n",
    "rho = data[:,1]\n",
    "depth = data[:,0]\n",
    "thickness = depth[1:]-depth[0:-1]\n",
    "thickness[0]=depth[0]\n",
    "\n",
    "# --- calculate 1D FWD response, plot model and responses ---- #\n",
    "\n",
    "\n",
    "import mt as mt\n",
    "per = np.logspace(-3, 3, 25) # make period vector with logarithmically equidistant periods between 0.001 and 1000 s\n",
    "rhoa, phi = mt.waitMT(thickness,rho,per) # FWD response of model\n",
    "mt.plotmodel(rho,thickness,'--k') # Plot model\n",
    "mt.plotrhophi(rhoa,phi,per,myfmt = 'ko-') # Plot response\n"
   ]
  },
  {
   "cell_type": "markdown",
   "metadata": {},
   "source": [
    "## Now it is your turn!\n",
    "\n",
    "Below, you can compare the MT forward responses for two different models. Models and data are plotted in figures below the code box.\n",
    "\n",
    "In the top 6 lines you can edit the resistivity models *model 1* and *model 2*. \n",
    "\n",
    "\n",
    "\n",
    "### Tasks\n",
    "\n",
    "1. **Homogeneous half-spaces**\n",
    "\n",
    "    **Questions:** What can you observe? How is the apparent resisitivty related to the resistivity of the half-space? What is happening to the phase?\n",
    "    \n",
    "    1.1 Leave the models as they are: 10 $\\Omega$m halfspace vs 1 $\\Omega$m halfspace.\n",
    "    \n",
    "    1.2 Change the resistivity $\\rho$ of *model 1* to 100 $\\Omega$m. Note, you need to do this for all layers in order to create a homogeneous halfspace model.\n",
    "\n",
    "2. **A single \"anomalous\" layer**\n",
    "    \n",
    "    **Questions:** How are apparent resistivities and phases reacting to differences in the models? How do responses compare?\n",
    "    \n",
    "    2.1 *Model 1:* Homogeneous 100 $\\Omega$m half-space. *Model 2*: Same as *model 1*, but 1 anomalous layer with $\\rho$=1 $\\Omega$m (top 2000 m, thickness 300 m). \n",
    "\n",
    "![](Picture1.png)\n",
    "\n",
    "    2.2 Introduce an anomalous layer into *model 1* with the same geometries as in *model 2* but using $\\rho$= 10000 $\\Omega$m\n",
    "    \n",
    "    2.3 Modify the anomalous layer of *model 1*: $\\rho$=1 $\\Omega$m (top 5000 m, thickness 300 m).\n",
    "    \n",
    "    \n",
    "3. **Finally let's try this:**\n",
    "\n",
    "    3.1 *Model 1*: 100 $\\Omega$m halfspace + layer of 10 $\\Omega$m (top 1000 m, thickness 300 m). *Model 2*: 100 $\\Omega$m halfspace + layer of 1 $\\Omega$m (top 1000 m, thickness 30 m). **Comments?**\n",
    "    \n"
   ]
  },
  {
   "cell_type": "code",
   "execution_count": null,
   "metadata": {},
   "outputs": [],
   "source": [
    "# model 1\n",
    "thickness =[2000, 300] # thickness of layers in [m], separated by commas, last layer is assumed to have infinite thickness --> thickness has one entry less than rho\n",
    "rho = [10,10,10] # resistivity of each layer in [Ohmm]\n",
    "\n",
    "# model 2\n",
    "thickness2 =[2000, 300] # thickness of layers in [m], separated by commas, last layer is assumed to have infinite thickness --> thickness2 has one entry less than rho2\n",
    "rho2 = [1,1,1] # resistivity of each layer in [Ohmm]\n",
    "\n",
    "# --- calculate 1D FWD response, plot model and responses ---- #\n",
    "# --- DO NOT EDIT BELOW --- #\n",
    "\n",
    "import mt as mt\n",
    "import numpy as np\n",
    "\n",
    "per = np.logspace(-3, 4, 30) # make period vector with logarithmically equidistant periods between 0.001 and 1000 s\n",
    "\n",
    "rhoa, phi = mt.waitMT(thickness,rho,per) # FWD response of model 1\n",
    "rhoa2, phi2 = mt.waitMT(thickness2,rho2,per) # FWD response of model 2\n",
    "\n",
    "mt.plotmodel2(rho,thickness,rho2,thickness2) # Plot models\n",
    "mt.plotrhophi2(rhoa,phi,rhoa2,phi2,per) # Plot responses\n",
    "\n"
   ]
  },
  {
   "cell_type": "code",
   "execution_count": null,
   "metadata": {},
   "outputs": [],
   "source": []
  },
  {
   "cell_type": "code",
   "execution_count": null,
   "metadata": {},
   "outputs": [],
   "source": []
  },
  {
   "cell_type": "code",
   "execution_count": null,
   "metadata": {},
   "outputs": [],
   "source": []
  },
  {
   "cell_type": "code",
   "execution_count": null,
   "metadata": {},
   "outputs": [],
   "source": []
  }
 ],
 "metadata": {
  "kernelspec": {
   "display_name": "Python 3 (ipykernel)",
   "language": "python",
   "name": "python3"
  },
  "language_info": {
   "codemirror_mode": {
    "name": "ipython",
    "version": 3
   },
   "file_extension": ".py",
   "mimetype": "text/x-python",
   "name": "python",
   "nbconvert_exporter": "python",
   "pygments_lexer": "ipython3",
   "version": "3.8.10"
  },
  "vscode": {
   "interpreter": {
    "hash": "26cec81e6fc30d7e57e1e14d22fc7e80b2aadbfa7933f97f93b0f263b1312ef8"
   }
  }
 },
 "nbformat": 4,
 "nbformat_minor": 4
}
