{
 "cells": [
  {
   "cell_type": "markdown",
   "metadata": {},
   "source": [
    "## Exercise 04: \"Inversion\" - Find a suitable 1D model\n",
    "\n",
    "Here is an MT response which has been measured in a 1D environment. "
   ]
  },
  {
   "cell_type": "code",
   "execution_count": null,
   "metadata": {},
   "outputs": [],
   "source": [
    "# --- calculate 1D FWD response, plot model and responses ---- #\n",
    "# --- DO NOT EDIT BELOW --- #\n",
    "\n",
    "import numpy as np\n",
    "import mt as mt\n",
    "\n",
    "# read data from textfile\n",
    "data = np.genfromtxt('data.dat')\n",
    "rhoa_obs = data[0,:]\n",
    "phi_obs = data[1,:]\n",
    "rhoa_err = data[2,:]*2\n",
    "phi_err = data[3,:]*2\n",
    "per = 1/data[4,:]\n",
    "\n",
    "\n",
    "mt.plotrhophi(rhoa_obs,phi_obs,per,\"Observed data\",myfmt = 'ko') # Plot responses\n",
    "\n",
    "rhoa_fit, phi_fit = mt.give_solution()\n",
    "mt.plotrhophi_eb(rhoa_obs,phi_obs,rhoa_err,phi_err,rhoa_fit, phi_fit,per,title = 'Observed + modelled') # Plot responses"
   ]
  },
  {
   "cell_type": "markdown",
   "metadata": {},
   "source": [
    "### Now it is your turn:\n",
    "\n",
    "It is assumed, that the susurface consists of ~5 layers and the resistivities range between 1 and 500 Ohmm.\n",
    "\n",
    "Try to find a model that fits the data roughly by varying the resistivities of the model given below. \n",
    "\n"
   ]
  },
  {
   "cell_type": "code",
   "execution_count": null,
   "metadata": {},
   "outputs": [],
   "source": [
    "\n",
    "\n",
    "\n",
    "# model\n",
    "rho = [80,10,10,10, 10] # resistivity of each layer in [Ohmm]\n",
    "\n",
    "# --- DO NOT EDIT BELOW --- #\n",
    "thickness =[10, 600, 1000, 500] # thickness of layers in [m], separated by commas, last layer is assumed to have infinite thickness --> thickness has one entry less than rho\n",
    "\n",
    "\n",
    "# --- calculate 1D FWD response, plot model and responses ---- #\n",
    "\n",
    "import numpy as np\n",
    "import mt as mt\n",
    "\n",
    "# read data from textfile\n",
    "data = np.genfromtxt('data.dat')\n",
    "rhoa_obs = data[0,:]\n",
    "phi_obs = data[1,:]\n",
    "rhoa_err = data[2,:]*2\n",
    "phi_err = data[3,:]*2\n",
    "per = 1./data[4,:]\n",
    "\n",
    "rhoa, phi = mt.waitMT(thickness,rho,per) # FWD response of model \n",
    "\n",
    "mt.plotmodel(rho,thickness,'r--') # Plot model\n",
    "mt.plotrhophi_eb(rhoa_obs,phi_obs,rhoa_err, phi_err, rhoa,phi,per) # Plot responses\n",
    "\n"
   ]
  },
  {
   "cell_type": "code",
   "execution_count": null,
   "metadata": {},
   "outputs": [],
   "source": []
  },
  {
   "cell_type": "code",
   "execution_count": null,
   "metadata": {},
   "outputs": [],
   "source": []
  }
 ],
 "metadata": {
  "kernelspec": {
   "display_name": "Python 3 (ipykernel)",
   "language": "python",
   "name": "python3"
  },
  "language_info": {
   "codemirror_mode": {
    "name": "ipython",
    "version": 3
   },
   "file_extension": ".py",
   "mimetype": "text/x-python",
   "name": "python",
   "nbconvert_exporter": "python",
   "pygments_lexer": "ipython3",
   "version": "3.8.10"
  },
  "vscode": {
   "interpreter": {
    "hash": "26cec81e6fc30d7e57e1e14d22fc7e80b2aadbfa7933f97f93b0f263b1312ef8"
   }
  }
 },
 "nbformat": 4,
 "nbformat_minor": 4
}
